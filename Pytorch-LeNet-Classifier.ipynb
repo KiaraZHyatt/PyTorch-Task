{
 "cells": [
  {
   "cell_type": "code",
   "execution_count": 5,
   "id": "50af8bfd",
   "metadata": {},
   "outputs": [
    {
     "name": "stdout",
     "output_type": "stream",
     "text": [
      "Collecting torch\n",
      "  Downloading torch-2.0.0-cp38-cp38-win_amd64.whl (172.3 MB)\n",
      "Requirement already satisfied: jinja2 in c:\\users\\karen\\anaconda3\\lib\\site-packages (from torch) (2.11.3)\n",
      "Requirement already satisfied: typing-extensions in c:\\users\\karen\\anaconda3\\lib\\site-packages (from torch) (3.7.4.3)\n",
      "Requirement already satisfied: networkx in c:\\users\\karen\\anaconda3\\lib\\site-packages (from torch) (2.5)\n",
      "Requirement already satisfied: sympy in c:\\users\\karen\\anaconda3\\lib\\site-packages (from torch) (1.8)\n",
      "Requirement already satisfied: filelock in c:\\users\\karen\\anaconda3\\lib\\site-packages (from torch) (3.0.12)\n",
      "Requirement already satisfied: MarkupSafe>=0.23 in c:\\users\\karen\\anaconda3\\lib\\site-packages (from jinja2->torch) (1.1.1)\n",
      "Requirement already satisfied: decorator>=4.3.0 in c:\\users\\karen\\anaconda3\\lib\\site-packages (from networkx->torch) (5.0.6)\n",
      "Requirement already satisfied: mpmath>=0.19 in c:\\users\\karen\\anaconda3\\lib\\site-packages (from sympy->torch) (1.2.1)\n",
      "Installing collected packages: torch\n",
      "Successfully installed torch-2.0.0\n"
     ]
    }
   ],
   "source": [
    "!pip install torch"
   ]
  },
  {
   "cell_type": "code",
   "execution_count": 6,
   "id": "45af7505",
   "metadata": {},
   "outputs": [
    {
     "name": "stdout",
     "output_type": "stream",
     "text": [
      "2.0.0+cpu\n"
     ]
    }
   ],
   "source": [
    "import torch\n",
    "print(torch.__version__)"
   ]
  },
  {
   "cell_type": "code",
   "execution_count": 9,
   "id": "4d1091fd",
   "metadata": {},
   "outputs": [
    {
     "name": "stdout",
     "output_type": "stream",
     "text": [
      "Collecting torchvision\n",
      "  Downloading torchvision-0.15.1-cp38-cp38-win_amd64.whl (1.2 MB)\n",
      "Requirement already satisfied: numpy in c:\\users\\karen\\anaconda3\\lib\\site-packages (from torchvision) (1.20.1)\n",
      "Requirement already satisfied: torch==2.0.0 in c:\\users\\karen\\anaconda3\\lib\\site-packages (from torchvision) (2.0.0)\n",
      "Requirement already satisfied: requests in c:\\users\\karen\\anaconda3\\lib\\site-packages (from torchvision) (2.25.1)\n",
      "Requirement already satisfied: pillow!=8.3.*,>=5.3.0 in c:\\users\\karen\\anaconda3\\lib\\site-packages (from torchvision) (8.2.0)\n",
      "Requirement already satisfied: sympy in c:\\users\\karen\\anaconda3\\lib\\site-packages (from torch==2.0.0->torchvision) (1.8)\n",
      "Requirement already satisfied: filelock in c:\\users\\karen\\anaconda3\\lib\\site-packages (from torch==2.0.0->torchvision) (3.0.12)\n",
      "Requirement already satisfied: jinja2 in c:\\users\\karen\\anaconda3\\lib\\site-packages (from torch==2.0.0->torchvision) (2.11.3)\n",
      "Requirement already satisfied: networkx in c:\\users\\karen\\anaconda3\\lib\\site-packages (from torch==2.0.0->torchvision) (2.5)\n",
      "Requirement already satisfied: typing-extensions in c:\\users\\karen\\anaconda3\\lib\\site-packages (from torch==2.0.0->torchvision) (3.7.4.3)\n",
      "Requirement already satisfied: MarkupSafe>=0.23 in c:\\users\\karen\\anaconda3\\lib\\site-packages (from jinja2->torch==2.0.0->torchvision) (1.1.1)\n",
      "Requirement already satisfied: decorator>=4.3.0 in c:\\users\\karen\\anaconda3\\lib\\site-packages (from networkx->torch==2.0.0->torchvision) (5.0.6)\n",
      "Requirement already satisfied: chardet<5,>=3.0.2 in c:\\users\\karen\\anaconda3\\lib\\site-packages (from requests->torchvision) (4.0.0)\n",
      "Requirement already satisfied: idna<3,>=2.5 in c:\\users\\karen\\anaconda3\\lib\\site-packages (from requests->torchvision) (2.10)\n",
      "Requirement already satisfied: certifi>=2017.4.17 in c:\\users\\karen\\anaconda3\\lib\\site-packages (from requests->torchvision) (2020.12.5)\n",
      "Requirement already satisfied: urllib3<1.27,>=1.21.1 in c:\\users\\karen\\anaconda3\\lib\\site-packages (from requests->torchvision) (1.26.4)\n",
      "Requirement already satisfied: mpmath>=0.19 in c:\\users\\karen\\anaconda3\\lib\\site-packages (from sympy->torch==2.0.0->torchvision) (1.2.1)\n",
      "Installing collected packages: torchvision\n",
      "Successfully installed torchvision-0.15.1\n"
     ]
    }
   ],
   "source": [
    "!pip install torchvision"
   ]
  },
  {
   "cell_type": "code",
   "execution_count": 10,
   "id": "cd2ec9b2",
   "metadata": {},
   "outputs": [
    {
     "name": "stdout",
     "output_type": "stream",
     "text": [
      "0.15.1+cpu\n"
     ]
    }
   ],
   "source": [
    "import torchvision\n",
    "print(torchvision.__version__)"
   ]
  },
  {
   "cell_type": "code",
   "execution_count": 11,
   "id": "dda2031e",
   "metadata": {},
   "outputs": [],
   "source": [
    "import pandas as pd\n",
    "import numpy as np\n",
    "import torch.nn as nn\n",
    "import torch.optim as optim\n",
    "from torch.utils.data import DataLoader\n",
    "import torchvision.datasets as datasets\n",
    "import torchvision.transforms as transforms\n",
    "from torchvision.transforms import ToTensor\n",
    "import torch.nn.functional as F\n",
    "import matplotlib.pyplot as plt"
   ]
  },
  {
   "cell_type": "code",
   "execution_count": 13,
   "id": "70422bf2",
   "metadata": {},
   "outputs": [],
   "source": [
    "#Define the LeNet model\n",
    "class LeNet(nn.Module):\n",
    "    def __init__(self):\n",
    "        super(LeNet, self).__init__()\n",
    "        self.conv1 = nn.Conv2d(1, 6, kernel_size=5)\n",
    "        self.pool1 = nn.MaxPool2d(kernel_size=2)\n",
    "        self.conv2 = nn.Conv2d(6, 16, kernel_size=5)\n",
    "        self.pool2 = nn.MaxPool2d(kernel_size=2)\n",
    "        self.fc1 = nn.Linear(16 * 4 * 4, 120)\n",
    "        self.fc2 = nn.Linear(120, 84)\n",
    "        self.fc3 = nn.Linear(84, 10)\n",
    "        \n",
    "    def forward(self, x):\n",
    "        x = self.pool1(torch.relu(self.conv1(x)))\n",
    "        x = self.pool2(torch.relu(self.conv2(x)))\n",
    "        x = x.view(-1, 16 * 4 * 4)\n",
    "        x = torch.relu(self.fc1(x))\n",
    "        x = torch.relu(self.fc2(x))\n",
    "        x = self.fc3(x)\n",
    "        return x\n",
    "\n",
    "#Define training hyperparameters\n",
    "batch_size = 64\n",
    "learning_rate = 0.001\n",
    "num_epochs = 10"
   ]
  },
  {
   "cell_type": "code",
   "execution_count": 16,
   "id": "7bef4afa",
   "metadata": {},
   "outputs": [],
   "source": [
    "#Download training data & test data from MINST dataset\n",
    "train_dataset = datasets.MNIST(\n",
    "root='./data',\n",
    "train=True,\n",
    "download=True,\n",
    "transform=ToTensor(),)\n",
    "\n",
    "test_dataset = datasets.MNIST(\n",
    "root='./data',\n",
    "train=False,\n",
    "download=True,\n",
    "transform=ToTensor(),)\n",
    "\n",
    "train_loader = torch.utils.data.DataLoader(dataset=train_dataset, batch_size=batch_size, shuffle=True)\n",
    "test_loader = torch.utils.data.DataLoader(dataset=test_dataset, batch_size=batch_size, shuffle=False)"
   ]
  },
  {
   "cell_type": "code",
   "execution_count": 17,
   "id": "94b97dd1",
   "metadata": {},
   "outputs": [],
   "source": [
    "#Instantiate the LeNet model, loss function, and optimizer\n",
    "model = LeNet()\n",
    "criterion = nn.CrossEntropyLoss()\n",
    "optimizer = optim.Adam(model.parameters(), lr=learning_rate)"
   ]
  },
  {
   "cell_type": "code",
   "execution_count": 18,
   "id": "84f0c11c",
   "metadata": {},
   "outputs": [
    {
     "name": "stdout",
     "output_type": "stream",
     "text": [
      "Epoch [1/10], Step [100/938], Loss: 0.4484\n",
      "Epoch [1/10], Step [200/938], Loss: 0.2640\n",
      "Epoch [1/10], Step [300/938], Loss: 0.1778\n",
      "Epoch [1/10], Step [400/938], Loss: 0.0554\n",
      "Epoch [1/10], Step [500/938], Loss: 0.0923\n",
      "Epoch [1/10], Step [600/938], Loss: 0.1176\n",
      "Epoch [1/10], Step [700/938], Loss: 0.1328\n",
      "Epoch [1/10], Step [800/938], Loss: 0.0974\n",
      "Epoch [1/10], Step [900/938], Loss: 0.2045\n",
      "Epoch [2/10], Step [100/938], Loss: 0.0758\n",
      "Epoch [2/10], Step [200/938], Loss: 0.0949\n",
      "Epoch [2/10], Step [300/938], Loss: 0.0200\n",
      "Epoch [2/10], Step [400/938], Loss: 0.0389\n",
      "Epoch [2/10], Step [500/938], Loss: 0.0270\n",
      "Epoch [2/10], Step [600/938], Loss: 0.0677\n",
      "Epoch [2/10], Step [700/938], Loss: 0.0197\n",
      "Epoch [2/10], Step [800/938], Loss: 0.0286\n",
      "Epoch [2/10], Step [900/938], Loss: 0.0512\n",
      "Epoch [3/10], Step [100/938], Loss: 0.0316\n",
      "Epoch [3/10], Step [200/938], Loss: 0.0341\n",
      "Epoch [3/10], Step [300/938], Loss: 0.1629\n",
      "Epoch [3/10], Step [400/938], Loss: 0.0260\n",
      "Epoch [3/10], Step [500/938], Loss: 0.1564\n",
      "Epoch [3/10], Step [600/938], Loss: 0.0079\n",
      "Epoch [3/10], Step [700/938], Loss: 0.0114\n",
      "Epoch [3/10], Step [800/938], Loss: 0.0258\n",
      "Epoch [3/10], Step [900/938], Loss: 0.0422\n",
      "Epoch [4/10], Step [100/938], Loss: 0.0274\n",
      "Epoch [4/10], Step [200/938], Loss: 0.0245\n",
      "Epoch [4/10], Step [300/938], Loss: 0.0321\n",
      "Epoch [4/10], Step [400/938], Loss: 0.1611\n",
      "Epoch [4/10], Step [500/938], Loss: 0.0512\n",
      "Epoch [4/10], Step [600/938], Loss: 0.0634\n",
      "Epoch [4/10], Step [700/938], Loss: 0.0400\n",
      "Epoch [4/10], Step [800/938], Loss: 0.0257\n",
      "Epoch [4/10], Step [900/938], Loss: 0.0222\n",
      "Epoch [5/10], Step [100/938], Loss: 0.0380\n",
      "Epoch [5/10], Step [200/938], Loss: 0.0029\n",
      "Epoch [5/10], Step [300/938], Loss: 0.0401\n",
      "Epoch [5/10], Step [400/938], Loss: 0.0032\n",
      "Epoch [5/10], Step [500/938], Loss: 0.0158\n",
      "Epoch [5/10], Step [600/938], Loss: 0.0246\n",
      "Epoch [5/10], Step [700/938], Loss: 0.0164\n",
      "Epoch [5/10], Step [800/938], Loss: 0.0200\n",
      "Epoch [5/10], Step [900/938], Loss: 0.0053\n",
      "Epoch [6/10], Step [100/938], Loss: 0.0213\n",
      "Epoch [6/10], Step [200/938], Loss: 0.0021\n",
      "Epoch [6/10], Step [300/938], Loss: 0.0015\n",
      "Epoch [6/10], Step [400/938], Loss: 0.0042\n",
      "Epoch [6/10], Step [500/938], Loss: 0.0564\n",
      "Epoch [6/10], Step [600/938], Loss: 0.1567\n",
      "Epoch [6/10], Step [700/938], Loss: 0.2085\n",
      "Epoch [6/10], Step [800/938], Loss: 0.0028\n",
      "Epoch [6/10], Step [900/938], Loss: 0.0020\n",
      "Epoch [7/10], Step [100/938], Loss: 0.0052\n",
      "Epoch [7/10], Step [200/938], Loss: 0.0115\n",
      "Epoch [7/10], Step [300/938], Loss: 0.0200\n",
      "Epoch [7/10], Step [400/938], Loss: 0.0008\n",
      "Epoch [7/10], Step [500/938], Loss: 0.1158\n",
      "Epoch [7/10], Step [600/938], Loss: 0.0043\n",
      "Epoch [7/10], Step [700/938], Loss: 0.0608\n",
      "Epoch [7/10], Step [800/938], Loss: 0.0026\n",
      "Epoch [7/10], Step [900/938], Loss: 0.0174\n",
      "Epoch [8/10], Step [100/938], Loss: 0.0309\n",
      "Epoch [8/10], Step [200/938], Loss: 0.0340\n",
      "Epoch [8/10], Step [300/938], Loss: 0.0372\n",
      "Epoch [8/10], Step [400/938], Loss: 0.0019\n",
      "Epoch [8/10], Step [500/938], Loss: 0.0282\n",
      "Epoch [8/10], Step [600/938], Loss: 0.0017\n",
      "Epoch [8/10], Step [700/938], Loss: 0.0255\n",
      "Epoch [8/10], Step [800/938], Loss: 0.0067\n",
      "Epoch [8/10], Step [900/938], Loss: 0.0220\n",
      "Epoch [9/10], Step [100/938], Loss: 0.0443\n",
      "Epoch [9/10], Step [200/938], Loss: 0.0080\n",
      "Epoch [9/10], Step [300/938], Loss: 0.0125\n",
      "Epoch [9/10], Step [400/938], Loss: 0.0162\n",
      "Epoch [9/10], Step [500/938], Loss: 0.0026\n",
      "Epoch [9/10], Step [600/938], Loss: 0.0503\n",
      "Epoch [9/10], Step [700/938], Loss: 0.0136\n",
      "Epoch [9/10], Step [800/938], Loss: 0.0036\n",
      "Epoch [9/10], Step [900/938], Loss: 0.0007\n",
      "Epoch [10/10], Step [100/938], Loss: 0.0026\n",
      "Epoch [10/10], Step [200/938], Loss: 0.0132\n",
      "Epoch [10/10], Step [300/938], Loss: 0.0053\n",
      "Epoch [10/10], Step [400/938], Loss: 0.0198\n",
      "Epoch [10/10], Step [500/938], Loss: 0.0037\n",
      "Epoch [10/10], Step [600/938], Loss: 0.0012\n",
      "Epoch [10/10], Step [700/938], Loss: 0.0755\n",
      "Epoch [10/10], Step [800/938], Loss: 0.0554\n",
      "Epoch [10/10], Step [900/938], Loss: 0.0335\n"
     ]
    }
   ],
   "source": [
    "# Train the model\n",
    "for epoch in range(num_epochs):\n",
    "    for i, (images, labels) in enumerate(train_loader):\n",
    "        # Forward pass\n",
    "        outputs = model(images)\n",
    "        loss = criterion(outputs, labels)\n",
    "\n",
    "        # Backward and optimize\n",
    "        optimizer.zero_grad()\n",
    "        loss.backward()\n",
    "        optimizer.step()\n",
    "\n",
    "        # Print training progress every 100 iterations\n",
    "        if (i+1) % 100 == 0:\n",
    "            print('Epoch [{}/{}], Step [{}/{}], Loss: {:.4f}'.format(epoch+1, num_epochs, i+1, len(train_loader), loss.item()))"
   ]
  },
  {
   "cell_type": "code",
   "execution_count": 19,
   "id": "b774918b",
   "metadata": {},
   "outputs": [
    {
     "name": "stdout",
     "output_type": "stream",
     "text": [
      "Accuracy of the LeNet on the 10000 test images: 98.94 %\n"
     ]
    }
   ],
   "source": [
    "# Test the model on the test set\n",
    "model.eval()\n",
    "with torch.no_grad():\n",
    "    correct = 0\n",
    "    total = 0\n",
    "    for images, labels in test_loader:\n",
    "        outputs = model(images)\n",
    "        _, predicted = torch.max(outputs.data, 1)\n",
    "        total += labels.size(0)\n",
    "        correct += (predicted == labels).sum().item()\n",
    "\n",
    "    print('Accuracy of the LeNet on the 10000 test images: {} %'.format(100 * correct / total))"
   ]
  },
  {
   "cell_type": "code",
   "execution_count": null,
   "id": "039afcf3",
   "metadata": {},
   "outputs": [],
   "source": []
  }
 ],
 "metadata": {
  "kernelspec": {
   "display_name": "Python 3",
   "language": "python",
   "name": "python3"
  },
  "language_info": {
   "codemirror_mode": {
    "name": "ipython",
    "version": 3
   },
   "file_extension": ".py",
   "mimetype": "text/x-python",
   "name": "python",
   "nbconvert_exporter": "python",
   "pygments_lexer": "ipython3",
   "version": "3.8.8"
  }
 },
 "nbformat": 4,
 "nbformat_minor": 5
}
